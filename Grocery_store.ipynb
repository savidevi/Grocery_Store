{
 "cells": [
  {
   "cell_type": "code",
   "execution_count": 72,
   "id": "d28c5e8b",
   "metadata": {},
   "outputs": [],
   "source": [
    "\n",
    "\n",
    "customer={}\n",
    "num=1"
   ]
  },
  {
   "cell_type": "code",
   "execution_count": 73,
   "id": "658bd07b",
   "metadata": {},
   "outputs": [],
   "source": [
    "#inventry hold values in order( number of items, purchace cost, sales cost)\n",
    "Inventory ={\"Beverages\": {\"Chocolate_drinks\":[10,20,25], \"Coffee\":[10,5,10], \"Tea\":[10,5,10], \"Soy_drinks\":[10,5,10],\"Pop_and_soda\": [10,5,10]},\n",
    " \"Phone_accessories\":{\"Carrying_case\":[20,30,35], \"Earpieces\":[20,45,50], \"Screen_guards\":[20,60,65]},\n",
    " \"Toiletries\": {\"Toilet_paper\":[15,30,35], \"Body_soap\":[15,5,10], \"Scrubs\":[15,10,15], \"Body_creme\":[15,20,25],\"Shampoo\":[15,15,20]},\n",
    " \"Pastry\": {\"Pizza\":[25,20,25], \"Burgers\":[25,10,15], \"Donuts\":[25,5,10], \"Muffins\":[25,5,10], \"Cheesecake\":[12,10,15]},\n",
    " \"Cosmetics\": {\"Perfumes\":[12,50,55], \"Vanishes\":[12,30,35], \"Nail_polish\":[12,20,25], \"Deodorants\":[15,150,155],\"Facial_scurb\": [12,40,45]}}\n",
    "\n"
   ]
  },
  {
   "cell_type": "code",
   "execution_count": 74,
   "id": "f431acbc",
   "metadata": {},
   "outputs": [],
   "source": [
    "#inventry hold values in order(  sales cost)\n",
    "Inventory_after_sell ={\"Beverages\": {\"Chocolate_drinks\":0, \"Coffee\":0, \"Tea\":0, \"Soy_drinks\":0,\"Pop_and_soda\": 0},\n",
    " \"Phone_accessories\":{\"Carrying_case\":0, \"Earpieces\":0, \"Screen_guards\":0},\n",
    " \"Toiletries\": {\"Toilet_paper\":0, \"Body_soap\":0, \"Scrubs\":0, \"Body_creme\":0,\"Shampoo\":0},\n",
    " \"Pastry\": {\"Pizza\":0, \"Burgers\":0, \"Donuts\":0, \"Muffins\":0, \"Cheesecake\":0},\n",
    " \"Cosmetics\": {\"Perfumes\":0, \"Vanishes\":0, \"Nail_polish\":0, \"Deodorants\":0,\"Facial_scurb\": 0}}"
   ]
  },
  {
   "cell_type": "code",
   "execution_count": 75,
   "id": "31278f1d",
   "metadata": {},
   "outputs": [],
   "source": [
    "# orderd items and customer receipt\n",
    "\n",
    "    \n",
    "    \n",
    "# To take a order\n",
    "def orders(list):\n",
    "    for item in Inventory.values():\n",
    "        for order_item,order_count in item.items():\n",
    "            for order in list:\n",
    "                if order_item==order[0]:                               #To check ordered item is in inventory\n",
    "                    item[order_item][0]=order_count[0]-order[1]        #To less the item count by number of items \n",
    "                    if order_count[0] <=5 :\n",
    "                        print(order_item+\" is less than 5, Restock\")\n",
    "                    if order_count[0]<order[1]:\n",
    "                        print(\"only {} {} left\".format(order_count[0],order_item))\n",
    "                        \n",
    "    \n",
    "\n",
    "# To create a list\n",
    "def receipt(list):\n",
    "    \n",
    "    customer_receipt={'Total':0}\n",
    "    for item in Inventory.values():\n",
    "        for order_item,order_count in item.items():\n",
    "            for order in list:\n",
    "                if order_item==order[0]:                               #To check ordered item is in inventory\n",
    "                          \n",
    "                    customer_receipt[order[0]]=order_count[-1]*order[1]#multiply by number of order\n",
    "                    customer_receipt['Total']+=order_count[-1]*order[1]#update customer receipt\n",
    "                    \n",
    "                        \n",
    "    return customer_receipt\n",
    "    \n",
    "# To restocking items\n",
    "def restocking(list2):\n",
    "    for item in Inventory.values():\n",
    "        for restock_item,count in item.items():\n",
    "            for new_item,new_count in list2.items():\n",
    "                if restock_item==new_item:\n",
    "                    item[restock_item][0]=count[0]+new_count    \n",
    "                    \n",
    " \n",
    "# Detail of items after sell\n",
    "def detail(res):\n",
    "    for item in Inventory_after_sell.values():\n",
    "        for item_sell,sell in item.items():\n",
    "            for new_item,new_sell in res.items():\n",
    "                if item_sell == new_item:\n",
    "                    item[item_sell]=sell+new_sell  \n",
    "\n",
    "# Result by product and category                    \n",
    "def stored_result(result):\n",
    "    for key,value in Inventory_after_sell.items():\n",
    "        \n",
    "        total=0\n",
    "        if result == 'Category' or result == 'Product':\n",
    "            \n",
    "            for k,v in value.items():\n",
    "                if result == 'Product':\n",
    "                    if v>0:\n",
    "                        print(str(k)+\" sell: \"+str(v))\n",
    "                        \n",
    "                total+=v\n",
    "            if total>0 and result == 'Category':    \n",
    "                print(str(key)+\" sell: \"+str(total))                    \n"
   ]
  },
  {
   "cell_type": "code",
   "execution_count": 83,
   "id": "cf9680dc",
   "metadata": {},
   "outputs": [
    {
     "name": "stdout",
     "output_type": "stream",
     "text": [
      "Order Please : coffee 5, tea 5,donuts 3,body_soap 1\n",
      "Coffee is less than 5, Restock\n",
      "only 3 Coffee left\n",
      "Tea is less than 5, Restock\n",
      "only 2 Tea left\n"
     ]
    }
   ],
   "source": [
    "# Order items\n",
    "list=[] \n",
    "for item in input(\"Order Please : \").split(','):\n",
    "    i,j=(item.split())\n",
    "    list.append([i.capitalize(),int(j)])\n",
    "    \n",
    "orders(list)\n",
    "\n"
   ]
  },
  {
   "cell_type": "code",
   "execution_count": 84,
   "id": "3c06cd80",
   "metadata": {},
   "outputs": [
    {
     "name": "stdout",
     "output_type": "stream",
     "text": [
      "{'Total': 140, 'Coffee': 50, 'Tea': 50, 'Body_soap': 10, 'Donuts': 30}\n"
     ]
    }
   ],
   "source": [
    "res=receipt(list)\n",
    "detail(res)\n",
    "print(res)"
   ]
  },
  {
   "cell_type": "code",
   "execution_count": 85,
   "id": "e8881364",
   "metadata": {},
   "outputs": [
    {
     "name": "stdout",
     "output_type": "stream",
     "text": [
      "How many items(restock): 2\n",
      "item name: coffee\n",
      "how many(number): 10\n",
      "item name: tea\n",
      "how many(number): 10\n"
     ]
    }
   ],
   "source": [
    "# Restock items     \n",
    "list2={}\n",
    "\n",
    "while (True):\n",
    "    try:\n",
    "        num = int(input(\"How many items(restock): \"))\n",
    "        break\n",
    "    except ValueError:\n",
    "        print(\"Invalid number\")\n",
    "\n",
    "for item in range(num):\n",
    "    name=input(\"item name: \").capitalize()\n",
    "    number=int(input(\"how many(number): \"))\n",
    "    list2[name]=number\n",
    "restocking(list2)    \n",
    "  "
   ]
  },
  {
   "cell_type": "code",
   "execution_count": 86,
   "id": "d87bca83",
   "metadata": {},
   "outputs": [
    {
     "data": {
      "text/plain": [
       "{'Beverages': {'Chocolate_drinks': [10, 20, 25],\n",
       "  'Coffee': [13, 5, 10],\n",
       "  'Tea': [12, 5, 10],\n",
       "  'Soy_drinks': [10, 5, 10],\n",
       "  'Pop_and_soda': [10, 5, 10]},\n",
       " 'Phone_accessories': {'Carrying_case': [20, 30, 35],\n",
       "  'Earpieces': [20, 45, 50],\n",
       "  'Screen_guards': [20, 60, 65]},\n",
       " 'Toiletries': {'Toilet_paper': [15, 30, 35],\n",
       "  'Body_soap': [14, 5, 10],\n",
       "  'Scrubs': [15, 10, 15],\n",
       "  'Body_creme': [15, 20, 25],\n",
       "  'Shampoo': [15, 15, 20]},\n",
       " 'Pastry': {'Pizza': [23, 20, 25],\n",
       "  'Burgers': [25, 10, 15],\n",
       "  'Donuts': [22, 5, 10],\n",
       "  'Muffins': [25, 5, 10],\n",
       "  'Cheesecake': [12, 10, 15]},\n",
       " 'Cosmetics': {'Perfumes': [12, 50, 55],\n",
       "  'Vanishes': [11, 30, 35],\n",
       "  'Nail_polish': [12, 20, 25],\n",
       "  'Deodorants': [15, 150, 155],\n",
       "  'Facial_scurb': [12, 40, 45]}}"
      ]
     },
     "execution_count": 86,
     "metadata": {},
     "output_type": "execute_result"
    }
   ],
   "source": [
    "Inventory"
   ]
  },
  {
   "cell_type": "code",
   "execution_count": 87,
   "id": "3b4153dc",
   "metadata": {},
   "outputs": [
    {
     "name": "stdout",
     "output_type": "stream",
     "text": [
      "you want all customer: yes\n",
      "{0: {'Total': 135, 'Coffee': 20, 'Tea': 30, 'Pizza': 50, 'Vanishes': 35}, 2: {'Total': 140, 'Coffee': 50, 'Tea': 50, 'Body_soap': 10, 'Donuts': 30}}\n"
     ]
    }
   ],
   "source": [
    "#Per/all customer detail\n",
    "def customer_detail(res):\n",
    "    global num\n",
    "    customer[num]=res\n",
    "    num=num+1\n",
    "    all=input(\"you want all customer: \").capitalize()\n",
    "    if all =='Yes':\n",
    "        return customer\n",
    "    else:\n",
    "        return customer[num-1]\n",
    "\n",
    "print(customer_detail(res))\n",
    "    \n",
    "    "
   ]
  },
  {
   "cell_type": "code",
   "execution_count": 9,
   "id": "25a3de99",
   "metadata": {},
   "outputs": [],
   "source": []
  },
  {
   "cell_type": "code",
   "execution_count": 88,
   "id": "9624fa10",
   "metadata": {},
   "outputs": [
    {
     "data": {
      "text/plain": [
       "{'Beverages': {'Chocolate_drinks': 0,\n",
       "  'Coffee': 70,\n",
       "  'Tea': 80,\n",
       "  'Soy_drinks': 0,\n",
       "  'Pop_and_soda': 0},\n",
       " 'Phone_accessories': {'Carrying_case': 0, 'Earpieces': 0, 'Screen_guards': 0},\n",
       " 'Toiletries': {'Toilet_paper': 0,\n",
       "  'Body_soap': 10,\n",
       "  'Scrubs': 0,\n",
       "  'Body_creme': 0,\n",
       "  'Shampoo': 0},\n",
       " 'Pastry': {'Pizza': 50,\n",
       "  'Burgers': 0,\n",
       "  'Donuts': 30,\n",
       "  'Muffins': 0,\n",
       "  'Cheesecake': 0},\n",
       " 'Cosmetics': {'Perfumes': 0,\n",
       "  'Vanishes': 35,\n",
       "  'Nail_polish': 0,\n",
       "  'Deodorants': 0,\n",
       "  'Facial_scurb': 0}}"
      ]
     },
     "execution_count": 88,
     "metadata": {},
     "output_type": "execute_result"
    }
   ],
   "source": [
    "Inventory_after_sell"
   ]
  },
  {
   "cell_type": "code",
   "execution_count": 90,
   "id": "0b37ace5",
   "metadata": {},
   "outputs": [
    {
     "name": "stdout",
     "output_type": "stream",
     "text": [
      "Enter by product or category: product\n",
      "Coffee sell: 70\n",
      "Tea sell: 80\n",
      "Body_soap sell: 10\n",
      "Pizza sell: 50\n",
      "Donuts sell: 30\n",
      "Vanishes sell: 35\n"
     ]
    }
   ],
   "source": [
    "#Value Stored in Inventory_after_sell\n",
    "  \n",
    "result=input('Enter by product or category: ').capitalize()\n",
    "stored_result(result) \n"
   ]
  },
  {
   "cell_type": "code",
   "execution_count": null,
   "id": "b9f20206",
   "metadata": {},
   "outputs": [],
   "source": []
  },
  {
   "cell_type": "code",
   "execution_count": null,
   "id": "e448ac98",
   "metadata": {},
   "outputs": [],
   "source": [
    "\n"
   ]
  },
  {
   "cell_type": "code",
   "execution_count": null,
   "id": "3cf9ec8a",
   "metadata": {},
   "outputs": [],
   "source": []
  }
 ],
 "metadata": {
  "kernelspec": {
   "display_name": "Python 3 (ipykernel)",
   "language": "python",
   "name": "python3"
  },
  "language_info": {
   "codemirror_mode": {
    "name": "ipython",
    "version": 3
   },
   "file_extension": ".py",
   "mimetype": "text/x-python",
   "name": "python",
   "nbconvert_exporter": "python",
   "pygments_lexer": "ipython3",
   "version": "3.10.9"
  }
 },
 "nbformat": 4,
 "nbformat_minor": 5
}
